{
  "nbformat": 4,
  "nbformat_minor": 0,
  "metadata": {
    "colab": {
      "name": "Riddler_Express_20_03_27.ipynb",
      "provenance": [],
      "collapsed_sections": [],
      "toc_visible": true,
      "authorship_tag": "ABX9TyPte47ES8N99DNUgseWEjZJ",
      "include_colab_link": true
    },
    "kernelspec": {
      "name": "python3",
      "display_name": "Python 3"
    }
  },
  "cells": [
    {
      "cell_type": "markdown",
      "metadata": {
        "id": "view-in-github",
        "colab_type": "text"
      },
      "source": [
        "<a href=\"https://colab.research.google.com/github/bphillab/Five_Thirty_Eight_Riddler/blob/master/Riddler_Express_20_03_27.ipynb\" target=\"_parent\"><img src=\"https://colab.research.google.com/assets/colab-badge.svg\" alt=\"Open In Colab\"/></a>"
      ]
    },
    {
      "cell_type": "markdown",
      "metadata": {
        "id": "oZ-o7LBOgZtW",
        "colab_type": "text"
      },
      "source": [
        "# Riddler Express for 03/27/20"
      ]
    },
    {
      "cell_type": "markdown",
      "metadata": {
        "id": "I9DT2JVOgkru",
        "colab_type": "text"
      },
      "source": [
        "\n",
        "These days I always have a pack of latex gloves nearby. But it’s notoriously difficult to pull exactly two gloves out of the box at a time. Sometimes I’ll pull out two gloves, other times three, and yet other times four. Somehow, I never pull out any other number of gloves at a time.\n",
        "\n",
        "This morning, I noticed that there are 10 gloves left in the box. How many distinct ways are there for me to remove all 10 gloves from the box? Note that the order matters here — for example, pulling out two gloves, then four gloves and then another four gloves is distinct from pulling out four gloves, another four gloves and then two gloves."
      ]
    },
    {
      "cell_type": "markdown",
      "metadata": {
        "id": "yiCIXBM9hPrq",
        "colab_type": "text"
      },
      "source": [
        "## Initial Commentary/Solution"
      ]
    },
    {
      "cell_type": "markdown",
      "metadata": {
        "id": "JL8sJmCahb1f",
        "colab_type": "text"
      },
      "source": [
        "This problem has a stars and bars feel to it. \n",
        "\n",
        "Parameters to consider are that we must pull out between two and four gloves. \n",
        "If we go this route we can quickly consider different numbers of partitions and how many ways exist in each.\n",
        "\n",
        "\\<3:0\n",
        "\n",
        "3: 6 : [4,4,2]\\*3, [3,3,4]\\*3\n",
        "\n",
        "4:10:[4,2,2,2]\\*4, [3,3,2,2]\\*6\n",
        "\n",
        "5: 1: [2,2,2,2,2]\n",
        "\n",
        "\\>5:0\n",
        "\n",
        "10 + 6 + 1 = 17\n"
      ]
    },
    {
      "cell_type": "markdown",
      "metadata": {
        "id": "sfXG49ycjmQx",
        "colab_type": "text"
      },
      "source": [
        "## Programming Solution to Verify"
      ]
    },
    {
      "cell_type": "code",
      "metadata": {
        "id": "1ucBIVzhjqc6",
        "colab_type": "code",
        "colab": {}
      },
      "source": [
        "import numpy as np"
      ],
      "execution_count": 0,
      "outputs": []
    },
    {
      "cell_type": "code",
      "metadata": {
        "id": "54aJolobjz-b",
        "colab_type": "code",
        "colab": {
          "base_uri": "https://localhost:8080/",
          "height": 34
        },
        "outputId": "75da6373-7fb5-41fb-b220-44ea7fe94912"
      },
      "source": [
        "counter = 0\n",
        "for num_1 in range(2,5):\n",
        "  for num_2 in range(2,5):\n",
        "    for num_3 in range(2,5):\n",
        "      for num_4 in range(0,5):\n",
        "        for num_5 in range(0,5):\n",
        "          if num_4 == 0 and num_5 > 0:\n",
        "            continue\n",
        "          if num_1 + num_2 + num_3 + num_4 + num_5 == 10 and num_4 != 1 and num_5 != 1:\n",
        "              counter = counter + 1\n",
        "print(counter)\n",
        "        "
      ],
      "execution_count": 8,
      "outputs": [
        {
          "output_type": "stream",
          "text": [
            "17\n"
          ],
          "name": "stdout"
        }
      ]
    },
    {
      "cell_type": "code",
      "metadata": {
        "id": "TmZRBHrPkYIK",
        "colab_type": "code",
        "colab": {}
      },
      "source": [
        ""
      ],
      "execution_count": 0,
      "outputs": []
    }
  ]
}