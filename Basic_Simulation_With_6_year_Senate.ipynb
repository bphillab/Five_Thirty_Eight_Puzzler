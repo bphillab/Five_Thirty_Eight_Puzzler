{
 "cells": [
  {
   "cell_type": "code",
   "execution_count": 184,
   "metadata": {
    "collapsed": true
   },
   "outputs": [],
   "source": [
    "import numpy as np\n",
    "import matplotlib.pyplot as plt"
   ]
  },
  {
   "cell_type": "code",
   "execution_count": 185,
   "metadata": {
    "collapsed": true
   },
   "outputs": [],
   "source": [
    "num_trials = 1\n",
    "num_years = 1000000\n",
    "pres_length = 4\n",
    "sen_length = 2\n",
    "num_seats = 9\n",
    "min_life = 0\n",
    "max_life = 40\n",
    "\n"
   ]
  },
  {
   "cell_type": "code",
   "execution_count": 186,
   "metadata": {
    "collapsed": true
   },
   "outputs": [],
   "source": [
    "pres_party = int(np.random.choice([-1,1],1))\n",
    "sen_party = [int(sum(np.random.choice([-1,1],33))),\n",
    "             int(sum(np.random.choice([-1,1],33))),\n",
    "             int(sum(np.random.choice([-1,1],34)))]\n",
    "court = []\n",
    "current_trial = 0\n",
    "current_year = 0\n",
    "trials_average_vac = []"
   ]
  },
  {
   "cell_type": "code",
   "execution_count": 190,
   "metadata": {
    "collapsed": false
   },
   "outputs": [],
   "source": [
    "while current_trial < num_trials:\n",
    "    current_year = 0\n",
    "    pres_party = int(np.random.choice([-1,1],1))\n",
    "    sen_party = [int(sum(np.random.choice([-1,1],33))),\n",
    "                 int(sum(np.random.choice([-1,1],33))),\n",
    "                 int(sum(np.random.choice([-1,1],34)))]\n",
    "    court = []\n",
    "    vac_years = 0\n",
    "    current_trial = current_trial + 1\n",
    "    tot_sen_party = 0\n",
    "    sen_sup_maj = 0\n",
    "    \n",
    "    while current_year < num_years:\n",
    "        ## Calculate time until the next thing happens:\n",
    "        time_to_next_court = min(court)\n",
    "        time_to_next_election = (sen_length - current_year)%sen_length\n",
    "        time_to_end = num_years-current_year\n",
    "        time_to_next_event = min([time_to_next_court, time_to_next_election, time_to_end])\n",
    "        ## Advance the clock to the next thing happening\n",
    "        current_year = current_year + time_to_next_event\n",
    "        \n",
    "        #Handle Elections.\n",
    "        if current_year % (3*sen_length) == 0:\n",
    "            sen_party[0] = int(sum(np.random.choice([-1,1],33)))\n",
    "            current_year = current_year +0.00000001\n",
    "        if current_year % (3*sen_length) == 2:\n",
    "            sen_party[1] = int(sum(np.random.choice([-1,1],33)))\n",
    "            current_year = current_year +0.00000001\n",
    "        if current_year % (3*sen_length) == 4:\n",
    "            sen_party[2] = int(sum(np.random.choice([-1,1],34)))\n",
    "            current_year = current_year +0.00000001\n",
    "        if current_year % pres_length == 0:\n",
    "            pres_party = int(np.random.choice([-1,1],1))\n",
    "        \n",
    "        tot_sen_party = np.sign(int(sum(sen_party))+0.1*pres_party) #vice president casts tie-breaking vote\n",
    "\n",
    "        vac_years = vac_years + (num_seats-len(court))*time_to_next_event # Calculate vacancy years\n",
    "        \n",
    "        court = [(i-time_to_next_event) for i in court if i > time_to_next_event] #retire justices\n",
    "        \n",
    "        if tot_sen_party == pres_party:\n",
    "            court = court + [i for i in np.random.uniform(low = min_life,\n",
    "                                                          high = max_life,\n",
    "                                                          size = num_seats-len(court)\n",
    "                                                         )]\n",
    "    trials_average_vac = trials_average_vac + [vac_years]\n",
    "        "
   ]
  },
  {
   "cell_type": "code",
   "execution_count": 189,
   "metadata": {
    "collapsed": false
   },
   "outputs": [
    {
     "data": {
      "text/plain": [
       "0.96719713131930374"
      ]
     },
     "execution_count": 189,
     "metadata": {},
     "output_type": "execute_result"
    }
   ],
   "source": [
    "np.mean(trials_average_vac)/num_years"
   ]
  },
  {
   "cell_type": "code",
   "execution_count": null,
   "metadata": {
    "collapsed": true
   },
   "outputs": [],
   "source": []
  }
 ],
 "metadata": {
  "anaconda-cloud": {},
  "kernelspec": {
   "display_name": "Python [default]",
   "language": "python",
   "name": "python3"
  },
  "language_info": {
   "codemirror_mode": {
    "name": "ipython",
    "version": 3
   },
   "file_extension": ".py",
   "mimetype": "text/x-python",
   "name": "python",
   "nbconvert_exporter": "python",
   "pygments_lexer": "ipython3",
   "version": "3.5.2"
  }
 },
 "nbformat": 4,
 "nbformat_minor": 1
}
