{
 "cells": [
  {
   "cell_type": "markdown",
   "metadata": {
    "collapsed": true,
    "pycharm": {
     "name": "#%% md\n"
    }
   },
   "source": [
    "# Riddler Classic 03/27/20"
   ]
  },
  {
   "cell_type": "markdown",
   "source": [
    "From Chris Nho comes a question of rolling (and re-rolling) a die:\n",
    "\n",
    "You start with a fair 6-sided die and roll it six times, recording the results of each roll. You then write these numbers on the six faces of another, unlabeled fair die. For example, if your six rolls were 3, 5, 3, 6, 1 and 2, then your second die wouldn’t have a 4 on it; instead, it would have two 3s.\n",
    "\n",
    "Next, you roll this second die six times. You take those six numbers and write them on the faces of yet another fair die, and you continue this process of generating a new die from the previous one.\n",
    "\n",
    "Eventually, you’ll have a die with the same number on all six faces. What is the average number of rolls it will take to reach this state?\n",
    "\n",
    "Extra credit: Instead of a standard 6-sided die, suppose you have an N-sided die, whose sides are numbered from 1 to N. What is the average number of rolls it would take until all N sides show the same number?\n"
   ],
   "metadata": {
    "collapsed": false,
    "pycharm": {
     "name": "#%% md\n"
    }
   }
  },
  {
   "cell_type": "markdown",
   "source": [
    "## Initial theory/Attempt\n",
    "\n"
   ],
   "metadata": {
    "collapsed": false,
    "pycharm": {
     "name": "#%% md\n"
    }
   }
  },
  {
   "cell_type": "markdown",
   "source": [
    "This problem has a basis in markov chains. We know there are at most 6^6 states and we could leverage this information to then represent the transition between these states and solve the problem. One could simplify this by simply\n",
    "tracking the number of numbers with a count of sides. (ie starting at {1:6} and going until {6:1})\n",
    "\n",
    "Another valid approach would be to simulate die rolls until one is satisfied that they have reached a stable enough solution."
   ],
   "metadata": {
    "collapsed": false
   }
  },
  {
   "cell_type": "markdown",
   "source": [
    "## The Shameful Monte Carlo Approach"
   ],
   "metadata": {
    "collapsed": false,
    "pycharm": {
     "name": "#%% md\n"
    }
   }
  },
  {
   "cell_type": "code",
   "execution_count": 2,
   "outputs": [],
   "source": [
    "%matplotlib inline\n",
    "import numpy as np\n",
    "import matplotlib.pyplot as plt\n",
    "\n",
    "\n",
    "def simulate_a_die_roll(die):\n",
    "    return np.random.choice(die, size=len(die))\n",
    "\n",
    "\n",
    "def count_rolls(num_faces=6):\n",
    "    roll_count = 0\n",
    "    die = [i+1 for i in range(num_faces)]\n",
    "\n",
    "    while len(np.unique(die)) > 1:\n",
    "        roll_count = roll_count + 1\n",
    "        die = simulate_a_die_roll(die)\n",
    "\n",
    "    return roll_count\n",
    "\n",
    "def simulate_til_you_drop(num_faces, num_sim):\n",
    "    return [count_rolls(num_faces) for _ in range(num_sim)]\n"
   ],
   "metadata": {
    "collapsed": false,
    "pycharm": {
     "name": "#%%\n"
    }
   }
  },
  {
   "cell_type": "code",
   "execution_count": 3,
   "outputs": [],
   "source": [
    "results = simulate_til_you_drop(6,1000000)\n"
   ],
   "metadata": {
    "collapsed": false,
    "pycharm": {
     "name": "#%%\n"
    }
   }
  },
  {
   "cell_type": "code",
   "execution_count": 4,
   "outputs": [
    {
     "data": {
      "text/plain": "[14,\n 9,\n 8,\n 9,\n 5,\n 9,\n 5,\n 4,\n 8,\n 10,\n 11,\n 4,\n 10,\n 5,\n 19,\n 18,\n 6,\n 6,\n 7,\n 11,\n 17,\n 3,\n 5,\n 5,\n 11,\n 6,\n 4,\n 16,\n 3,\n 12,\n 18,\n 12,\n 13,\n 11,\n 13,\n 9,\n 5,\n 5,\n 10,\n 19,\n 20,\n 5,\n 15,\n 5,\n 14,\n 9,\n 9,\n 8,\n 6,\n 5,\n 13,\n 6,\n 6,\n 13,\n 2,\n 8,\n 9,\n 6,\n 11,\n 9,\n 6,\n 7,\n 10,\n 10,\n 11,\n 6,\n 5,\n 9,\n 4,\n 9,\n 7,\n 6,\n 9,\n 8,\n 12,\n 5,\n 8,\n 16,\n 4,\n 7,\n 13,\n 3,\n 4,\n 5,\n 3,\n 12,\n 4,\n 14,\n 6,\n 17,\n 3,\n 3,\n 12,\n 15,\n 34,\n 4,\n 8,\n 19,\n 6,\n 6,\n 11,\n 13,\n 7,\n 11,\n 5,\n 4,\n 6,\n 4,\n 5,\n 6,\n 3,\n 9,\n 10,\n 13,\n 11,\n 7,\n 8,\n 7,\n 8,\n 14,\n 6,\n 4,\n 11,\n 21,\n 4,\n 12,\n 15,\n 20,\n 5,\n 16,\n 21,\n 4,\n 10,\n 3,\n 6,\n 6,\n 6,\n 4,\n 12,\n 7,\n 2,\n 10,\n 16,\n 5,\n 8,\n 7,\n 4,\n 12,\n 21,\n 9,\n 21,\n 8,\n 7,\n 7,\n 5,\n 4,\n 6,\n 3,\n 4,\n 10,\n 3,\n 19,\n 11,\n 3,\n 3,\n 12,\n 19,\n 15,\n 3,\n 6,\n 9,\n 16,\n 9,\n 7,\n 8,\n 6,\n 19,\n 9,\n 20,\n 27,\n 8,\n 3,\n 10,\n 8,\n 12,\n 9,\n 13,\n 15,\n 14,\n 9,\n 8,\n 9,\n 25,\n 9,\n 6,\n 14,\n 9,\n 3,\n 10,\n 5,\n 4,\n 6,\n 18,\n 12,\n 7,\n 4,\n 3,\n 8,\n 4,\n 32,\n 4,\n 5,\n 35,\n 8,\n 9,\n 6,\n 9,\n 9,\n 23,\n 9,\n 4,\n 14,\n 11,\n 4,\n 15,\n 13,\n 26,\n 9,\n 11,\n 11,\n 11,\n 7,\n 25,\n 9,\n 8,\n 7,\n 4,\n 11,\n 3,\n 11,\n 13,\n 10,\n 3,\n 8,\n 14,\n 10,\n 17,\n 6,\n 5,\n 8,\n 15,\n 6,\n 6,\n 5,\n 5,\n 7,\n 4,\n 13,\n 9,\n 5,\n 18,\n 13,\n 7,\n 12,\n 23,\n 10,\n 6,\n 13,\n 12,\n 10,\n 9,\n 17,\n 21,\n 5,\n 6,\n 22,\n 5,\n 4,\n 5,\n 4,\n 4,\n 15,\n 5,\n 8,\n 8,\n 4,\n 5,\n 8,\n 7,\n 4,\n 5,\n 8,\n 8,\n 4,\n 5,\n 8,\n 6,\n 6,\n 21,\n 10,\n 9,\n 8,\n 13,\n 4,\n 7,\n 8,\n 10,\n 13,\n 8,\n 8,\n 5,\n 6,\n 3,\n 7,\n 5,\n 22,\n 7,\n 3,\n 21,\n 13,\n 4,\n 6,\n 18,\n 14,\n 12,\n 7,\n 11,\n 5,\n 20,\n 20,\n 13,\n 4,\n 10,\n 6,\n 4,\n 6,\n 5,\n 14,\n 14,\n 11,\n 6,\n 57,\n 22,\n 7,\n 4,\n 5,\n 6,\n 6,\n 7,\n 6,\n 17,\n 6,\n 5,\n 8,\n 4,\n 15,\n 6,\n 5,\n 9,\n 9,\n 4,\n 10,\n 15,\n 9,\n 5,\n 10,\n 12,\n 11,\n 10,\n 15,\n 6,\n 7,\n 5,\n 6,\n 14,\n 9,\n 11,\n 5,\n 3,\n 3,\n 15,\n 9,\n 4,\n 9,\n 8,\n 8,\n 7,\n 15,\n 4,\n 9,\n 8,\n 5,\n 5,\n 6,\n 2,\n 5,\n 6,\n 5,\n 26,\n 6,\n 4,\n 7,\n 3,\n 10,\n 9,\n 9,\n 18,\n 5,\n 8,\n 3,\n 7,\n 24,\n 12,\n 14,\n 11,\n 6,\n 6,\n 7,\n 10,\n 4,\n 7,\n 15,\n 19,\n 6,\n 14,\n 12,\n 6,\n 4,\n 5,\n 6,\n 13,\n 16,\n 4,\n 5,\n 7,\n 3,\n 12,\n 12,\n 5,\n 11,\n 6,\n 18,\n 4,\n 6,\n 9,\n 14,\n 9,\n 3,\n 25,\n 8,\n 15,\n 25,\n 33,\n 7,\n 30,\n 6,\n 4,\n 15,\n 12,\n 5,\n 7,\n 4,\n 7,\n 10,\n 5,\n 6,\n 9,\n 16,\n 4,\n 7,\n 6,\n 4,\n 13,\n 10,\n 7,\n 4,\n 6,\n 4,\n 10,\n 3,\n 7,\n 3,\n 31,\n 19,\n 5,\n 2,\n 8,\n 5,\n 7,\n 7,\n 8,\n 12,\n 7,\n 4,\n 4,\n 5,\n 19,\n 5,\n 8,\n 15,\n 18,\n 16,\n 10,\n 5,\n 4,\n 12,\n 6,\n 11,\n 7,\n 6,\n 8,\n 7,\n 6,\n 5,\n 9,\n 22,\n 9,\n 12,\n 19,\n 12,\n 3,\n 9,\n 21,\n 3,\n 12,\n 9,\n 16,\n 12,\n 3,\n 12,\n 4,\n 5,\n 12,\n 12,\n 11,\n 15,\n 34,\n 5,\n 6,\n 5,\n 4,\n 17,\n 5,\n 6,\n 10,\n 6,\n 7,\n 9,\n 7,\n 15,\n 5,\n 5,\n 11,\n 5,\n 3,\n 10,\n 21,\n 5,\n 9,\n 13,\n 5,\n 9,\n 8,\n 17,\n 12,\n 18,\n 16,\n 12,\n 28,\n 9,\n 3,\n 7,\n 7,\n 14,\n 25,\n 12,\n 8,\n 18,\n 15,\n 24,\n 14,\n 9,\n 17,\n 16,\n 5,\n 10,\n 8,\n 17,\n 7,\n 10,\n 6,\n 1,\n 18,\n 33,\n 4,\n 4,\n 8,\n 21,\n 7,\n 6,\n 6,\n 10,\n 8,\n 27,\n 4,\n 7,\n 12,\n 6,\n 8,\n 6,\n 2,\n 6,\n 20,\n 16,\n 10,\n 5,\n 9,\n 4,\n 5,\n 17,\n 9,\n 14,\n 5,\n 4,\n 7,\n 14,\n 9,\n 11,\n 13,\n 9,\n 7,\n 8,\n 13,\n 5,\n 5,\n 6,\n 8,\n 12,\n 12,\n 3,\n 13,\n 4,\n 14,\n 4,\n 9,\n 7,\n 17,\n 4,\n 9,\n 4,\n 11,\n 9,\n 11,\n 16,\n 7,\n 8,\n 7,\n 11,\n 4,\n 12,\n 11,\n 12,\n 3,\n 8,\n 15,\n 9,\n 5,\n 17,\n 6,\n 5,\n 5,\n 6,\n 3,\n 3,\n 5,\n 9,\n 6,\n 8,\n 8,\n 13,\n 9,\n 4,\n 7,\n 6,\n 15,\n 11,\n 5,\n 10,\n 6,\n 10,\n 4,\n 11,\n 17,\n 13,\n 10,\n 8,\n 4,\n 24,\n 9,\n 9,\n 12,\n 7,\n 6,\n 5,\n 9,\n 3,\n 4,\n 14,\n 28,\n 9,\n 6,\n 5,\n 6,\n 3,\n 6,\n 22,\n 6,\n 7,\n 5,\n 20,\n 4,\n 7,\n 12,\n 4,\n 7,\n 7,\n 8,\n 10,\n 8,\n 6,\n 7,\n 13,\n 6,\n 8,\n 12,\n 11,\n 5,\n 9,\n 9,\n 15,\n 3,\n 11,\n 6,\n 13,\n 8,\n 7,\n 12,\n 4,\n 15,\n 3,\n 4,\n 6,\n 4,\n 7,\n 4,\n 19,\n 7,\n 21,\n 6,\n 31,\n 21,\n 6,\n 9,\n 5,\n 4,\n 13,\n 12,\n 7,\n 5,\n 9,\n 15,\n 9,\n 20,\n 7,\n 16,\n 3,\n 11,\n 5,\n 8,\n 5,\n 10,\n 22,\n 8,\n 13,\n 6,\n 5,\n 4,\n 11,\n 4,\n 11,\n 2,\n 7,\n 3,\n 2,\n 9,\n 7,\n 5,\n 12,\n 4,\n 10,\n 8,\n 15,\n 10,\n 11,\n 7,\n 17,\n 7,\n 8,\n 30,\n 2,\n 15,\n 4,\n 24,\n 4,\n 11,\n 4,\n 3,\n 3,\n 10,\n 21,\n 13,\n 11,\n 10,\n 13,\n 7,\n 9,\n 3,\n 12,\n 21,\n 8,\n 7,\n 7,\n 15,\n 22,\n 6,\n 6,\n 5,\n 12,\n 10,\n 5,\n 5,\n 7,\n 11,\n 3,\n 11,\n 9,\n 12,\n 15,\n 5,\n 14,\n 6,\n 15,\n 11,\n 8,\n 7,\n 15,\n 18,\n 6,\n 12,\n 5,\n 13,\n 6,\n 14,\n 11,\n 13,\n 9,\n 4,\n 7,\n 25,\n 9,\n 6,\n 6,\n 23,\n 11,\n 7,\n 9,\n 3,\n 6,\n 3,\n 10,\n 12,\n 7,\n 22,\n 6,\n 7,\n 15,\n 12,\n 20,\n 16,\n 5,\n 4,\n 6,\n 5,\n 16,\n 13,\n 10,\n 5,\n 3,\n 29,\n 8,\n 4,\n 6,\n 4,\n 13,\n 7,\n 23,\n 18,\n 5,\n 6,\n 2,\n 19,\n 13,\n 24,\n 15,\n 15,\n 5,\n 6,\n 5,\n 7,\n 8,\n 6,\n 5,\n 12,\n 24,\n 6,\n 13,\n 8,\n 6,\n 4,\n 10,\n 7,\n 27,\n 12,\n 15,\n 9,\n 7,\n 20,\n 7,\n 23,\n 6,\n 15,\n 8,\n 8,\n 17,\n 23,\n 6,\n 20,\n 22,\n 10,\n 13,\n 13,\n 13,\n 4,\n 11,\n 16,\n 2,\n 5,\n 11,\n 10,\n 6,\n 15,\n 17,\n 3,\n 6,\n 3,\n 8,\n 7,\n 7,\n 7,\n 17,\n 17,\n 9,\n 6,\n 3,\n 9,\n 6,\n 10,\n 12,\n 3,\n 13,\n 8,\n 9,\n 12,\n 10,\n 12,\n 7,\n 6,\n 8,\n 15,\n 6,\n 9,\n 9,\n 20,\n 16,\n 20,\n 10,\n 4,\n 7,\n 6,\n 11,\n ...]"
     },
     "execution_count": 4,
     "metadata": {},
     "output_type": "execute_result"
    }
   ],
   "source": [],
   "metadata": {
    "collapsed": false,
    "pycharm": {
     "name": "#%%\n"
    }
   }
  },
  {
   "cell_type": "code",
   "execution_count": 12,
   "outputs": [
    {
     "name": "stdout",
     "output_type": "stream",
     "text": [
      "9.660162\n",
      "0.05929559643008915\n"
     ]
    }
   ],
   "source": [
    "temp_res = [np.mean(results[10000*i:(10000*(i+1))]) for i in range(100)]\n",
    "print(np.mean(temp_res))\n",
    "print(np.std(temp_res))"
   ],
   "metadata": {
    "collapsed": false,
    "pycharm": {
     "name": "#%%\n"
    }
   }
  },
  {
   "cell_type": "code",
   "execution_count": 15,
   "outputs": [],
   "source": [
    "n_face_res = [np.mean(simulate_til_you_drop(i+1,10000)) for i in range(20)]"
   ],
   "metadata": {
    "collapsed": false,
    "pycharm": {
     "name": "#%%\n"
    }
   }
  },
  {
   "cell_type": "code",
   "execution_count": 16,
   "outputs": [
    {
     "data": {
      "text/plain": "[<matplotlib.lines.Line2D at 0x106727128>]"
     },
     "execution_count": 16,
     "metadata": {},
     "output_type": "execute_result"
    },
    {
     "data": {
      "image/png": "[encoded data removed]",
      "text/plain": "<Figure size 432x288 with 1 Axes>"
     },
     "metadata": {},
     "output_type": "display_data"
    }
   ],
   "source": [
    "plt.plot(n_face_res)"
   ],
   "metadata": {
    "collapsed": false,
    "pycharm": {
     "name": "#%%\n"
    }
   }
  },
  {
   "cell_type": "code",
   "execution_count": 17,
   "outputs": [
    {
     "data": {
      "text/plain": "[0.0,\n 1.9846,\n 3.8387,\n 5.7755,\n 7.7584,\n 9.6448,\n 11.6441,\n 13.4524,\n 15.4922,\n 17.4989,\n 19.599,\n 21.4611,\n 23.2848,\n 25.5904,\n 27.3938,\n 29.4056,\n 31.0141,\n 33.4755,\n 35.0275,\n 37.2153]"
     },
     "execution_count": 17,
     "metadata": {},
     "output_type": "execute_result"
    }
   ],
   "source": [
    "n_face_res\n",
    "\n"
   ],
   "metadata": {
    "collapsed": false,
    "pycharm": {
     "name": "#%%\n"
    }
   }
  },
  {
   "cell_type": "markdown",
   "source": [
    "# Studying \n",
    "\n",
    "\n"
   ],
   "metadata": {
    "collapsed": false,
    "pycharm": {
     "name": "#%% md\n"
    }
   }
  }
 ],
 "metadata": {
  "kernelspec": {
   "display_name": "Python 3",
   "language": "python",
   "name": "python3"
  },
  "language_info": {
   "codemirror_mode": {
    "name": "ipython",
    "version": 2
   },
   "file_extension": ".py",
   "mimetype": "text/x-python",
   "name": "python",
   "nbconvert_exporter": "python",
   "pygments_lexer": "ipython2",
   "version": "2.7.6"
  }
 },
 "nbformat": 4,
 "nbformat_minor": 0
}