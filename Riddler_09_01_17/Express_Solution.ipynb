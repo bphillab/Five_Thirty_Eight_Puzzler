{
 "cells": [
  {
   "cell_type": "markdown",
   "metadata": {
    "collapsed": true
   },
   "source": [
    "#Riddler Express Solution"
   ]
  },
  {
   "cell_type": "markdown",
   "metadata": {},
   "source": [
    "##Problem Statement\n",
    "\n",
    "A friend of yours claims to have shot 17 Free Throws in row after not practicing in a long while. You deem this plausible, but unlikely. Your friend is more skeptical.\n",
    "\n",
    "Given your friend has a probability of shooting a free throw 70% of the time how many shots would they have to attempt before getting 17 in a row?\n",
    "\n",
    "## Solution\n",
    "\n",
    "There is an analytic solution to this problem. Consider the average length of a streak below 17 and the probability of getting more than 17 in a row. One can then deduce the average number of streaks and length of streaks to get the number of shots until starting the 17 in a row.\n",
    "\n",
    "The probability of getting a streak of exactly $n$ is $p_n = p^n (1-p)$. The probability of getting at least $l$ shots is $1-\\sum_{i=0} ^{l-1} p_i = p^{l}$. The expected length of a streak is derived from $\\frac{\\sum_{i=0} ^{l-1} (i+1)p_i}{1-p^{l}} = l +\\frac{1}{1-p}-\\frac{l}{1-p^l} $\n",
    "\n",
    "The average number of streaks required before getting a streak of at least $l$ is given by $\\frac{1}{p^l}-1$.\n",
    "\n",
    "Thus the average number of shots before one begins the $l$ streak is: \n",
    "$$\\frac{l p + p^{-l}-l - 1}{1 - p}$$ \n",
    "\n",
    "For 17 shots and 70% chance:\n",
    "$$1413$$"
   ]
  },
  {
   "cell_type": "markdown",
   "metadata": {},
   "source": [
    ""
   ]
  },
  {
   "cell_type": "markdown",
   "metadata": {},
   "source": [
    "## Simulation"
   ]
  },
  {
   "cell_type": "code",
   "execution_count": 17,
   "metadata": {},
   "outputs": [],
   "source": [
    "from numpy.random import uniform\n",
    "\n",
    "\n",
    "def take_a_shot(p):\n",
    "    return uniform()<p\n",
    "\n",
    "\n",
    "def shoot_until_l(p,l):\n",
    "    num_shots = 0\n",
    "    streak = 0\n",
    "    while streak < l:\n",
    "        shot = take_a_shot(p)\n",
    "        num_shots = num_shots+1\n",
    "        if shot:\n",
    "            streak = streak+1\n",
    "        else:\n",
    "            streak = 0\n",
    "    return num_shots-l\n",
    "\n",
    "\n",
    "def simulate(num_rounds,p,l):\n",
    "    num_shots_dist = []\n",
    "    for i in range(num_rounds):\n",
    "        num_shots_dist= num_shots_dist + [shoot_until_l(p,l)]\n",
    "    return num_shots_dist\n",
    "\n"
   ]
  },
  {
   "cell_type": "code",
   "execution_count": 22,
   "metadata": {},
   "outputs": [],
   "source": [
    "num_shot_dist = simulate(100000,0.7,17)"
   ]
  },
  {
   "cell_type": "code",
   "execution_count": 24,
   "metadata": {
    "collapsed": true
   },
   "outputs": [
    {
     "name": "stderr",
     "output_type": "stream",
     "text": [
      "/Users/bphillab/anaconda3/lib/python3.5/site-packages/statsmodels/nonparametric/kdetools.py:20: VisibleDeprecationWarning: using a non-integer number instead of an integer will result in an error in the future\n  y = X[:m/2+1] + np.r_[0,X[m/2+1:],0]*1j\n"
     ]
    },
    {
     "data": {
      "text/plain": [
       "<matplotlib.axes._subplots.AxesSubplot at 0x11a65ccc0>"
      ]
     },
     "execution_count": 23,
     "metadata": {},
     "output_type": "execute_result"
    },
    {
     "data": {
      "image/png": "[encoded data removed]",
      "text/plain": [
       "<matplotlib.figure.Figure at 0x11a853c18>"
      ]
     },
     "metadata": {},
     "output_type": "display_data"
    }
   ],
   "source": [
    "%matplotlib inline\n",
    "import seaborn as sns\n",
    "sns.distplot(num_shot_dist)"
   ]
  },
  {
   "cell_type": "code",
   "execution_count": 31,
   "metadata": {},
   "outputs": [
    {
     "data": {
      "text/plain": [
       "1405.7694200000001"
      ]
     },
     "execution_count": 31,
     "metadata": {},
     "output_type": "execute_result"
    }
   ],
   "source": [
    "import numpy as np\n",
    "np.mean(num_shot_dist)\n"
   ]
  },
  {
   "cell_type": "markdown",
   "metadata": {},
   "source": [
    "##Analysis"
   ]
  },
  {
   "cell_type": "code",
   "execution_count": null,
   "metadata": {},
   "outputs": [],
   "source": []
  }
 ],
 "metadata": {
  "kernelspec": {
   "display_name": "Python 2",
   "language": "python",
   "name": "python2"
  },
  "language_info": {
   "codemirror_mode": {
    "name": "ipython",
    "version": 2
   },
   "file_extension": ".py",
   "mimetype": "text/x-python",
   "name": "python",
   "nbconvert_exporter": "python",
   "pygments_lexer": "ipython2",
   "version": "2.7.6"
  }
 },
 "nbformat": 4,
 "nbformat_minor": 0
}
