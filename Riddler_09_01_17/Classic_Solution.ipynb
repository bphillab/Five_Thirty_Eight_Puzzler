{
 "cells": [
  {
   "cell_type": "markdown",
   "metadata": {
    "collapsed": true
   },
   "level": 1,
   "source": [
    "#Classic Problem"
   ]
  },
  {
   "cell_type": "markdown",
   "metadata": {},
   "source": [
    "First Observations are that random choice of one person gives a 50-50 chance of winning. One can improve from there, this is provable by looking at the simpler 3-person game, in which guessing the opposite of other players if they are the same and passing otherwise (ie guess black if you see two whites, pass if you see a black and a white) gives a 75% chance of winning. \n",
    "\n",
    "We then know that coordination can give some advantage. The question becomes why this is so and how to generalize this phenomenon. The answer is found in the distribution of wrong and right answers and hamming codes ![https://books.google.com/books?id=Ux5QcdVXo6oC&pg=PA50#v=onepage&q&f=false](https://books.google.com/books?id=Ux5QcdVXo6oC&pg=PA50#v=onepage&q&f=false). If we can make getting a wrong answer on one hat highly correlated with getting a wrong answer on the other hats we can minimize the number of overall times we are wrong. If we can spread out the right answer to being alone with the rest of the group passing we can improve the number of correct answers.\n",
    "\n"
   ]
  },
  {
   "cell_type": "code",
   "execution_count": 216,
   "metadata": {},
   "outputs": [],
   "source": [
    "import numpy as np\n",
    "\n",
    "code_words = [[0,0,0,0,0,0,0],[1,1,1,0,0,0,0],[1,0,0,1,1,0,0],[0,1,1,1,1,0,0],[0,1,0,1,0,1,0],\n",
    "              [1,0,1,1,0,1,0],[1,1,0,0,1,1,0],[0,0,1,0,1,1,0],[1,1,0,1,0,0,1],[0,0,1,1,0,0,1],\n",
    "              [0,1,0,0,1,0,1],[1,0,1,0,1,0,1],[1,0,0,0,0,1,1],[0,1,1,0,0,1,1],[0,0,0,1,1,1,1],\n",
    "              [1,1,1,1,1,1,1]]\n",
    "\n",
    "\n",
    "code_words_t = [[(i-1/2)*2.0 for i in j] for j in code_words]\n",
    "\n",
    "\n",
    "\n",
    "def strategy(other_people,index):\n",
    "    if list(np.append(np.append(other_people[:index],[-1]),other_people[index:])) in code_words_t:\n",
    "        return 1\n",
    "    if list(np.append(np.append(other_people[:index],[1]),other_people[index:])) in code_words_t:\n",
    "        return -1\n",
    "    return 0\n",
    "\n",
    "\n",
    "def personal_vision(all_people, index):\n",
    "    return np.append(all_people[:index],all_people[index+1:])\n",
    "\n",
    "\n",
    "def eval_guess(true, guess):\n",
    "    if guess == [0]*len(guess):\n",
    "        return 0\n",
    "    guess_eval = [guess[i]*true[i] for i in range(len(guess))]\n",
    "    if -1 in guess_eval:\n",
    "        return 0\n",
    "    return 1"
   ]
  },
  {
   "cell_type": "code",
   "execution_count": 223,
   "metadata": {
    "collapsed": true
   },
   "outputs": [],
   "source": [
    "num_people = 7\n",
    "num_trials = 10000\n",
    "wins = 0\n",
    "\n",
    "for i in range(num_trials):\n",
    "    state = np.sign(np.random.uniform(-1,1,num_people))\n",
    "    guesses = [strategy(personal_vision(state,i),i) for i in range(num_people)]\n",
    "    wins = wins + eval_guess(state,guesses)"
   ]
  },
  {
   "cell_type": "code",
   "execution_count": 224,
   "metadata": {},
   "outputs": [
    {
     "data": {
      "text/plain": [
       "0.8787"
      ]
     },
     "execution_count": 224,
     "metadata": {},
     "output_type": "execute_result"
    }
   ],
   "source": [
    "wins/num_trials"
   ]
  }
 ],
 "metadata": {
  "kernelspec": {
   "display_name": "Python 2",
   "language": "python",
   "name": "python2"
  },
  "language_info": {
   "codemirror_mode": {
    "name": "ipython",
    "version": 2
   },
   "file_extension": ".py",
   "mimetype": "text/x-python",
   "name": "python",
   "nbconvert_exporter": "python",
   "pygments_lexer": "ipython2",
   "version": "2.7.6"
  }
 },
 "nbformat": 4,
 "nbformat_minor": 0
}
