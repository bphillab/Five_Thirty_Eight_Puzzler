{
 "cells": [
  {
   "cell_type": "markdown",
   "metadata": {
    "collapsed": true
   },
   "source": [
    "From Chris Hopkins, the probabilities lurking within a slowly crumbling dystopia:\n",
    "\n",
    "You live in a row house, one of 36 like it on your side of the block. A disaster strikes, and the city has to be evacuated. Two years later, with everyone gone for good, the worst-maintained row house on your side of the block, battered by the elements for too long, collapses. Within two years, any row house neighboring the collapsed one also collapses — as does the second-worst-maintained home on the block, if it wasn’t next to the worst-maintained one.\n",
    "\n",
    "This contagion continues: Every two years, any row house next to one that’s already collapsed also becomes rubble, and houses continue to collapse in order of how badly maintained they are — the third-worst-maintained house falls in the third round, the fourth-worst-maintained in the fourth round, and so on, assuming they were still standing at the start of that round. (The maintenance rankings are set at the moment the city is evacuated and don’t change from round to round.) Assuming a random distribution of poorly maintained homes, what’s the longest your home can remain standing? What’s the fewest number of years it will take for all 36 row houses to collapse?\n",
    "\n",
    "Extra credit: How does either answer change for N rowhouses?\n",
    "\n"
   ]
  },
  {
   "cell_type": "markdown",
   "metadata": {},
   "source": [
    "I opt to hit the extra credit which the main question is a special case. \n",
    "\n",
    "Every round between 1 and 2 (T-1)+1 houses are knocked down, where T is the round number.Thus the longest your house could conceivably survive is N rounds where N is the number of houses. This can be achieved if your house is best maintained and the houses are sorted by order:\n",
    "\n",
    "1,2,3,4,5,..., N\n",
    "\n",
    "For the least number of turns we would sum over the max for each turn to get $T^2$ housesafter T turns. This suggests that if N is a perfect square then it can be knocked over in the its square root number of turns. This is achievable with some optimal placement:\n",
    "\n",
    "XXXXX1XXXXXXXXX2XXXXXXX3XXXXX4XXX5X6"
   ]
  },
  {
   "cell_type": "markdown",
   "metadata": {},
   "source": [
    ""
   ]
  },
  {
   "cell_type": "code",
   "execution_count": null,
   "metadata": {},
   "outputs": [],
   "source": []
  }
 ],
 "metadata": {
  "kernelspec": {
   "display_name": "Python 2",
   "language": "python",
   "name": "python2"
  },
  "language_info": {
   "codemirror_mode": {
    "name": "ipython",
    "version": 2
   },
   "file_extension": ".py",
   "mimetype": "text/x-python",
   "name": "python",
   "nbconvert_exporter": "python",
   "pygments_lexer": "ipython2",
   "version": "2.7.6"
  }
 },
 "nbformat": 4,
 "nbformat_minor": 0
}
